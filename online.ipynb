{
 "cells": [
  {
   "cell_type": "code",
   "execution_count": 1,
   "id": "26771f04",
   "metadata": {},
   "outputs": [],
   "source": [
    "import pandas as pd\n",
    "import numpy as np"
   ]
  },
  {
   "cell_type": "code",
   "execution_count": 2,
   "id": "619d9783",
   "metadata": {},
   "outputs": [
    {
     "data": {
      "text/html": [
       "<div>\n",
       "<style scoped>\n",
       "    .dataframe tbody tr th:only-of-type {\n",
       "        vertical-align: middle;\n",
       "    }\n",
       "\n",
       "    .dataframe tbody tr th {\n",
       "        vertical-align: top;\n",
       "    }\n",
       "\n",
       "    .dataframe thead th {\n",
       "        text-align: right;\n",
       "    }\n",
       "</style>\n",
       "<table border=\"1\" class=\"dataframe\">\n",
       "  <thead>\n",
       "    <tr style=\"text-align: right;\">\n",
       "      <th></th>\n",
       "      <th>booking id</th>\n",
       "      <th>booking_date_time</th>\n",
       "      <th>distance_travelled</th>\n",
       "      <th>time_taken</th>\n",
       "      <th>commission_base_cost</th>\n",
       "      <th>driver_base_cost</th>\n",
       "      <th>total_tax</th>\n",
       "      <th>total_trip_cost</th>\n",
       "      <th>ratings</th>\n",
       "    </tr>\n",
       "  </thead>\n",
       "  <tbody>\n",
       "    <tr>\n",
       "      <th>0</th>\n",
       "      <td>1890061540</td>\n",
       "      <td>43249.919444</td>\n",
       "      <td>17</td>\n",
       "      <td>58.00</td>\n",
       "      <td>57.73</td>\n",
       "      <td>230.91</td>\n",
       "      <td>21.94</td>\n",
       "      <td>311.00</td>\n",
       "      <td>3</td>\n",
       "    </tr>\n",
       "    <tr>\n",
       "      <th>1</th>\n",
       "      <td>1542148932</td>\n",
       "      <td>43153.925000</td>\n",
       "      <td>18</td>\n",
       "      <td>43.00</td>\n",
       "      <td>52.04</td>\n",
       "      <td>208.16</td>\n",
       "      <td>19.76</td>\n",
       "      <td>279.96</td>\n",
       "      <td>5</td>\n",
       "    </tr>\n",
       "    <tr>\n",
       "      <th>2</th>\n",
       "      <td>1672692603</td>\n",
       "      <td>43194.882639</td>\n",
       "      <td>2</td>\n",
       "      <td>5.00</td>\n",
       "      <td>19.70</td>\n",
       "      <td>78.81</td>\n",
       "      <td>7.49</td>\n",
       "      <td>106.00</td>\n",
       "      <td>5</td>\n",
       "    </tr>\n",
       "    <tr>\n",
       "      <th>3</th>\n",
       "      <td>1925600201</td>\n",
       "      <td>43258.932639</td>\n",
       "      <td>15</td>\n",
       "      <td>49.00</td>\n",
       "      <td>51.24</td>\n",
       "      <td>239.96</td>\n",
       "      <td>21.22</td>\n",
       "      <td>312.00</td>\n",
       "      <td>5</td>\n",
       "    </tr>\n",
       "    <tr>\n",
       "      <th>4</th>\n",
       "      <td>1530845664</td>\n",
       "      <td>43150.479861</td>\n",
       "      <td>46</td>\n",
       "      <td>0.00</td>\n",
       "      <td>195.92</td>\n",
       "      <td>783.68</td>\n",
       "      <td>74.45</td>\n",
       "      <td>1054.05</td>\n",
       "      <td>4</td>\n",
       "    </tr>\n",
       "    <tr>\n",
       "      <th>...</th>\n",
       "      <td>...</td>\n",
       "      <td>...</td>\n",
       "      <td>...</td>\n",
       "      <td>...</td>\n",
       "      <td>...</td>\n",
       "      <td>...</td>\n",
       "      <td>...</td>\n",
       "      <td>...</td>\n",
       "      <td>...</td>\n",
       "    </tr>\n",
       "    <tr>\n",
       "      <th>4945</th>\n",
       "      <td>1901877370</td>\n",
       "      <td>43252.909722</td>\n",
       "      <td>29</td>\n",
       "      <td>90.00</td>\n",
       "      <td>113.75</td>\n",
       "      <td>490.02</td>\n",
       "      <td>44.97</td>\n",
       "      <td>649.00</td>\n",
       "      <td>3</td>\n",
       "    </tr>\n",
       "    <tr>\n",
       "      <th>4946</th>\n",
       "      <td>1867091987</td>\n",
       "      <td>43243.933333</td>\n",
       "      <td>1</td>\n",
       "      <td>2.00</td>\n",
       "      <td>15.84</td>\n",
       "      <td>63.36</td>\n",
       "      <td>6.02</td>\n",
       "      <td>85.00</td>\n",
       "      <td>4</td>\n",
       "    </tr>\n",
       "    <tr>\n",
       "      <th>4947</th>\n",
       "      <td>1747322670</td>\n",
       "      <td>43214.971528</td>\n",
       "      <td>8</td>\n",
       "      <td>34.00</td>\n",
       "      <td>33.78</td>\n",
       "      <td>135.13</td>\n",
       "      <td>12.84</td>\n",
       "      <td>182.00</td>\n",
       "      <td>5</td>\n",
       "    </tr>\n",
       "    <tr>\n",
       "      <th>4948</th>\n",
       "      <td>1635338680</td>\n",
       "      <td>43183.008333</td>\n",
       "      <td>10</td>\n",
       "      <td>30.00</td>\n",
       "      <td>43.29</td>\n",
       "      <td>173.17</td>\n",
       "      <td>16.45</td>\n",
       "      <td>232.91</td>\n",
       "      <td>5</td>\n",
       "    </tr>\n",
       "    <tr>\n",
       "      <th>4949</th>\n",
       "      <td>OSN_1039565727</td>\n",
       "      <td>43270.986806</td>\n",
       "      <td>6</td>\n",
       "      <td>17.58</td>\n",
       "      <td>28.99</td>\n",
       "      <td>115.97</td>\n",
       "      <td>11.02</td>\n",
       "      <td>156.00</td>\n",
       "      <td>5</td>\n",
       "    </tr>\n",
       "  </tbody>\n",
       "</table>\n",
       "<p>4950 rows × 9 columns</p>\n",
       "</div>"
      ],
      "text/plain": [
       "          booking id  booking_date_time  distance_travelled  time_taken  \\\n",
       "0         1890061540       43249.919444                  17       58.00   \n",
       "1         1542148932       43153.925000                  18       43.00   \n",
       "2         1672692603       43194.882639                   2        5.00   \n",
       "3         1925600201       43258.932639                  15       49.00   \n",
       "4         1530845664       43150.479861                  46        0.00   \n",
       "...              ...                ...                 ...         ...   \n",
       "4945      1901877370       43252.909722                  29       90.00   \n",
       "4946      1867091987       43243.933333                   1        2.00   \n",
       "4947      1747322670       43214.971528                   8       34.00   \n",
       "4948      1635338680       43183.008333                  10       30.00   \n",
       "4949  OSN_1039565727       43270.986806                   6       17.58   \n",
       "\n",
       "      commission_base_cost  driver_base_cost  total_tax  total_trip_cost  \\\n",
       "0                    57.73            230.91      21.94           311.00   \n",
       "1                    52.04            208.16      19.76           279.96   \n",
       "2                    19.70             78.81       7.49           106.00   \n",
       "3                    51.24            239.96      21.22           312.00   \n",
       "4                   195.92            783.68      74.45          1054.05   \n",
       "...                    ...               ...        ...              ...   \n",
       "4945                113.75            490.02      44.97           649.00   \n",
       "4946                 15.84             63.36       6.02            85.00   \n",
       "4947                 33.78            135.13      12.84           182.00   \n",
       "4948                 43.29            173.17      16.45           232.91   \n",
       "4949                 28.99            115.97      11.02           156.00   \n",
       "\n",
       "      ratings  \n",
       "0           3  \n",
       "1           5  \n",
       "2           5  \n",
       "3           5  \n",
       "4           4  \n",
       "...       ...  \n",
       "4945        3  \n",
       "4946        4  \n",
       "4947        5  \n",
       "4948        5  \n",
       "4949        5  \n",
       "\n",
       "[4950 rows x 9 columns]"
      ]
     },
     "execution_count": 2,
     "metadata": {},
     "output_type": "execute_result"
    }
   ],
   "source": [
    "data = pd.read_csv(\"Cab Online Booking_dataset.csv\")\n",
    "data"
   ]
  },
  {
   "cell_type": "code",
   "execution_count": 3,
   "id": "57a9cc29",
   "metadata": {},
   "outputs": [
    {
     "data": {
      "text/plain": [
       "booking id              0\n",
       "booking_date_time       0\n",
       "distance_travelled      0\n",
       "time_taken              0\n",
       "commission_base_cost    0\n",
       "driver_base_cost        0\n",
       "total_tax               0\n",
       "total_trip_cost         0\n",
       "ratings                 0\n",
       "dtype: int64"
      ]
     },
     "execution_count": 3,
     "metadata": {},
     "output_type": "execute_result"
    }
   ],
   "source": [
    "data.isnull().sum()"
   ]
  },
  {
   "cell_type": "code",
   "execution_count": 4,
   "id": "a513e293",
   "metadata": {},
   "outputs": [
    {
     "data": {
      "text/plain": [
       "Index(['booking id', 'booking_date_time', 'distance_travelled', 'time_taken',\n",
       "       'commission_base_cost', 'driver_base_cost', 'total_tax',\n",
       "       'total_trip_cost', 'ratings'],\n",
       "      dtype='object')"
      ]
     },
     "execution_count": 4,
     "metadata": {},
     "output_type": "execute_result"
    }
   ],
   "source": [
    "data.columns"
   ]
  },
  {
   "cell_type": "code",
   "execution_count": 5,
   "id": "01fa63dd",
   "metadata": {},
   "outputs": [],
   "source": [
    "data_segment = pd.DataFrame(data)"
   ]
  },
  {
   "cell_type": "markdown",
   "id": "9f48ad99",
   "metadata": {},
   "source": [
    "# Segmentation on 'Booking Date and Time'"
   ]
  },
  {
   "cell_type": "code",
   "execution_count": 6,
   "id": "277945cd",
   "metadata": {},
   "outputs": [
    {
     "name": "stdout",
     "output_type": "stream",
     "text": [
      "   month  total_trip_cost\n",
      "0      1       262.074463\n"
     ]
    }
   ],
   "source": [
    "data_segment['booking_date_time'] = pd.to_datetime(data_segment['booking_date_time'])\n",
    "\n",
    "data_segment['day'] = data_segment['booking_date_time'].dt.day\n",
    "data_segment['week'] = data_segment['booking_date_time'].dt.isocalendar().week\n",
    "data_segment['month'] = data_segment['booking_date_time'].dt.month\n",
    "\n",
    "monthly_segment = data_segment.groupby('month').agg({'total_trip_cost': 'mean'}).reset_index()\n",
    "\n",
    "print(monthly_segment)"
   ]
  },
  {
   "cell_type": "markdown",
   "id": "72a5fb23",
   "metadata": {},
   "source": [
    "# Segmentation on 'Cost'"
   ]
  },
  {
   "cell_type": "code",
   "execution_count": 7,
   "id": "97bb5cd3",
   "metadata": {},
   "outputs": [
    {
     "name": "stdout",
     "output_type": "stream",
     "text": [
      "     cost_segment   ratings\n",
      "0        Low Cost  3.675949\n",
      "1     Medium Cost  3.742168\n",
      "2       High Cost  3.775934\n",
      "3  Very High Cost  3.746479\n"
     ]
    },
    {
     "name": "stderr",
     "output_type": "stream",
     "text": [
      "C:\\Users\\Hp\\AppData\\Local\\Temp\\ipykernel_20744\\7169537.py:6: FutureWarning: The default of observed=False is deprecated and will be changed to True in a future version of pandas. Pass observed=False to retain current behavior or observed=True to adopt the future default and silence this warning.\n",
      "  cost_segmented_data = data_segment.groupby('cost_segment').agg({'ratings': 'mean'}).reset_index()\n"
     ]
    }
   ],
   "source": [
    "bins = [0, 100, 500, 1000, data_segment['total_trip_cost'].max()]\n",
    "labels = ['Low Cost', 'Medium Cost', 'High Cost', 'Very High Cost']\n",
    "\n",
    "data_segment['cost_segment'] = pd.cut(data_segment['total_trip_cost'], bins=bins, labels=labels)\n",
    "\n",
    "cost_segmented_data = data_segment.groupby('cost_segment').agg({'ratings': 'mean'}).reset_index()\n",
    "\n",
    "print(cost_segmented_data)"
   ]
  },
  {
   "cell_type": "markdown",
   "id": "e1ce455a",
   "metadata": {},
   "source": [
    "# Segmentation on 'rating'"
   ]
  },
  {
   "cell_type": "code",
   "execution_count": 9,
   "id": "117c27be",
   "metadata": {},
   "outputs": [
    {
     "name": "stdout",
     "output_type": "stream",
     "text": [
      "  rating_segment  total_trip_cost\n",
      "0           Poor       251.851261\n",
      "1        Average       265.256160\n",
      "2      Excellent       262.160935\n"
     ]
    },
    {
     "name": "stderr",
     "output_type": "stream",
     "text": [
      "C:\\Users\\Hp\\AppData\\Local\\Temp\\ipykernel_20744\\3281140497.py:6: FutureWarning: The default of observed=False is deprecated and will be changed to True in a future version of pandas. Pass observed=False to retain current behavior or observed=True to adopt the future default and silence this warning.\n",
      "  rating_segmented_data = data_segment.groupby('rating_segment').agg({'total_trip_cost': 'mean'}).reset_index()\n"
     ]
    }
   ],
   "source": [
    "rating_bins = [0, 2, 4, 5]\n",
    "rating_labels = ['Poor', 'Average', 'Excellent']\n",
    "\n",
    "data_segment['rating_segment'] = pd.cut(data_segment['ratings'], bins=rating_bins, labels=rating_labels)\n",
    "\n",
    "rating_segmented_data = data_segment.groupby('rating_segment').agg({'total_trip_cost': 'mean'}).reset_index()\n",
    "\n",
    "print(rating_segmented_data)\n"
   ]
  },
  {
   "cell_type": "markdown",
   "id": "4d230596",
   "metadata": {},
   "source": [
    "# Segmentation on 'Distance'"
   ]
  },
  {
   "cell_type": "code",
   "execution_count": 10,
   "id": "c94f912b",
   "metadata": {},
   "outputs": [
    {
     "name": "stdout",
     "output_type": "stream",
     "text": [
      "     distance_segment  time_taken\n",
      "0      Short Distance   10.830306\n",
      "1     Medium Distance   41.067902\n",
      "2       Long Distance   67.231151\n",
      "3  Very Long Distance   95.365854\n"
     ]
    },
    {
     "name": "stderr",
     "output_type": "stream",
     "text": [
      "C:\\Users\\Hp\\AppData\\Local\\Temp\\ipykernel_20744\\3489931365.py:6: FutureWarning: The default of observed=False is deprecated and will be changed to True in a future version of pandas. Pass observed=False to retain current behavior or observed=True to adopt the future default and silence this warning.\n",
      "  distance_segmented_data = data_segment.groupby('distance_segment').agg({'time_taken': 'mean'}).reset_index()\n"
     ]
    }
   ],
   "source": [
    "distance_bins = [0, 5, 20, 50, data_segment['distance_travelled'].max()]\n",
    "distance_labels = ['Short Distance', 'Medium Distance', 'Long Distance', 'Very Long Distance']\n",
    "\n",
    "data_segment['distance_segment'] = pd.cut(data_segment['distance_travelled'], bins=distance_bins, labels=distance_labels)\n",
    "\n",
    "distance_segmented_data = data_segment.groupby('distance_segment').agg({'time_taken': 'mean'}).reset_index()\n",
    "\n",
    "print(distance_segmented_data)"
   ]
  },
  {
   "cell_type": "markdown",
   "id": "231876fa",
   "metadata": {},
   "source": [
    "# Segmentation by 'Trip Duration'"
   ]
  },
  {
   "cell_type": "code",
   "execution_count": 12,
   "id": "3717f657",
   "metadata": {},
   "outputs": [
    {
     "name": "stdout",
     "output_type": "stream",
     "text": [
      "  duration_segment  total_trip_cost\n",
      "0       Very Short       106.711081\n",
      "1            Short       171.050572\n",
      "2           Medium       287.169596\n",
      "3             Long       582.851174\n"
     ]
    },
    {
     "name": "stderr",
     "output_type": "stream",
     "text": [
      "C:\\Users\\Hp\\AppData\\Local\\Temp\\ipykernel_20744\\2441902804.py:6: FutureWarning: The default of observed=False is deprecated and will be changed to True in a future version of pandas. Pass observed=False to retain current behavior or observed=True to adopt the future default and silence this warning.\n",
      "  duration_segmented_data = data_segment.groupby('duration_segment').agg({'total_trip_cost': 'mean'}).reset_index()\n"
     ]
    }
   ],
   "source": [
    "duration_bins = [0, 15, 30, 60, data_segment['time_taken'].max()]\n",
    "duration_labels = ['Very Short', 'Short', 'Medium', 'Long']\n",
    "\n",
    "data_segment['duration_segment'] = pd.cut(data_segment['time_taken'], bins=duration_bins, labels=duration_labels)\n",
    "\n",
    "duration_segmented_data = data_segment.groupby('duration_segment').agg({'total_trip_cost': 'mean'}).reset_index()\n",
    "\n",
    "print(duration_segmented_data)"
   ]
  },
  {
   "cell_type": "markdown",
   "id": "adf170dd",
   "metadata": {},
   "source": [
    "# Segmentation on 'Commission and Driver Cost'"
   ]
  },
  {
   "cell_type": "code",
   "execution_count": 13,
   "id": "c08820e0",
   "metadata": {},
   "outputs": [
    {
     "name": "stdout",
     "output_type": "stream",
     "text": [
      "               cost_structure_segment  total_trip_cost\n",
      "0  High Commission & High Driver Cost       397.347176\n",
      "1   High Commission & Low Driver Cost       202.737857\n",
      "2   Low Commission & High Driver Cost       257.836429\n",
      "3    Low Commission & Low Driver Cost       127.163409\n"
     ]
    }
   ],
   "source": [
    "commission_median = data_segment['commission_base_cost'].median()\n",
    "driver_cost_median = data_segment['driver_base_cost'].median()\n",
    "\n",
    "data_segment['commission_segment'] = np.where(data_segment['commission_base_cost'] > commission_median, 'High Commission', 'Low Commission')\n",
    "data_segment['driver_cost_segment'] = np.where(data_segment['driver_base_cost'] > driver_cost_median, 'High Driver Cost', 'Low Driver Cost')\n",
    "\n",
    "data_segment['cost_structure_segment'] = data_segment['commission_segment'] + ' & ' + data_segment['driver_cost_segment']\n",
    "\n",
    "cost_structure_segmented_data = data_segment.groupby('cost_structure_segment').agg({'total_trip_cost': 'mean'}).reset_index()\n",
    "\n",
    "print(cost_structure_segmented_data)"
   ]
  },
  {
   "cell_type": "markdown",
   "id": "6b6bab01",
   "metadata": {},
   "source": [
    "# Segmentation on 'Booking date time'"
   ]
  },
  {
   "cell_type": "code",
   "execution_count": 14,
   "id": "ae063bb9",
   "metadata": {},
   "outputs": [
    {
     "name": "stdout",
     "output_type": "stream",
     "text": [
      "  time_of_day_segment  distance_travelled\n",
      "0               Night           11.713333\n"
     ]
    }
   ],
   "source": [
    "data_segment['booking_hour'] = data_segment['booking_date_time'].dt.hour\n",
    "\n",
    "def time_of_day(hour):\n",
    "    if 5 <= hour < 12:\n",
    "        return 'Morning'\n",
    "    elif 12 <= hour < 17:\n",
    "        return 'Afternoon'\n",
    "    elif 17 <= hour < 21:\n",
    "        return 'Evening'\n",
    "    else:\n",
    "        return 'Night'\n",
    "\n",
    "data_segment['time_of_day_segment'] = data_segment['booking_hour'].apply(time_of_day)\n",
    "\n",
    "time_of_day_segmented_data = data_segment.groupby('time_of_day_segment').agg({'distance_travelled': 'mean'}).reset_index()\n",
    "\n",
    "print(time_of_day_segmented_data)"
   ]
  },
  {
   "cell_type": "markdown",
   "id": "f6302bdd",
   "metadata": {},
   "source": [
    "# Segmentation on 'Tax'"
   ]
  },
  {
   "cell_type": "code",
   "execution_count": 15,
   "id": "25eebe18",
   "metadata": {},
   "outputs": [
    {
     "name": "stdout",
     "output_type": "stream",
     "text": [
      "       tax_segment   ratings\n",
      "0          Low Tax  3.706356\n",
      "1   Medium Low Tax  3.739448\n",
      "2  Medium High Tax  3.737268\n",
      "3         High Tax  3.756866\n"
     ]
    },
    {
     "name": "stderr",
     "output_type": "stream",
     "text": [
      "C:\\Users\\Hp\\AppData\\Local\\Temp\\ipykernel_20744\\293578491.py:4: FutureWarning: The default of observed=False is deprecated and will be changed to True in a future version of pandas. Pass observed=False to retain current behavior or observed=True to adopt the future default and silence this warning.\n",
      "  tax_segmented_data = data_segment.groupby('tax_segment').agg({'ratings': 'mean'}).reset_index()\n"
     ]
    }
   ],
   "source": [
    "data_segment['tax_segment'] = pd.qcut(data_segment['total_tax'], q=4, \n",
    "                                        labels=['Low Tax', 'Medium Low Tax', 'Medium High Tax', 'High Tax'])\n",
    "\n",
    "tax_segmented_data = data_segment.groupby('tax_segment').agg({'ratings': 'mean'}).reset_index()\n",
    "\n",
    "print(tax_segmented_data)"
   ]
  },
  {
   "cell_type": "code",
   "execution_count": 17,
   "id": "fdfdb44a",
   "metadata": {},
   "outputs": [
    {
     "name": "stdout",
     "output_type": "stream",
     "text": [
      "       tax_segment   ratings\n",
      "0          Low Tax  3.706356\n",
      "1   Medium Low Tax  3.739448\n",
      "2  Medium High Tax  3.737268\n",
      "3         High Tax  3.756866\n",
      "              combined_segment  distance_travelled\n",
      "0          High Cost & Average           29.764045\n",
      "1        High Cost & Excellent           30.081081\n",
      "2             High Cost & Poor           30.313433\n",
      "3           Low Cost & Average            2.472155\n",
      "4         Low Cost & Excellent            2.491228\n",
      "5              Low Cost & Poor            2.536913\n",
      "6        Medium Cost & Average           10.542765\n",
      "7      Medium Cost & Excellent           10.649351\n",
      "8           Medium Cost & Poor           10.868465\n",
      "9     Very High Cost & Average           46.500000\n",
      "10  Very High Cost & Excellent           45.736842\n",
      "11       Very High Cost & Poor           40.625000\n"
     ]
    },
    {
     "name": "stderr",
     "output_type": "stream",
     "text": [
      "C:\\Users\\Hp\\AppData\\Local\\Temp\\ipykernel_20744\\2509361953.py:6: FutureWarning: The default of observed=False is deprecated and will be changed to True in a future version of pandas. Pass observed=False to retain current behavior or observed=True to adopt the future default and silence this warning.\n",
      "  tax_segmented_data = data_segment.groupby('tax_segment').agg({'ratings': 'mean'}).reset_index()\n"
     ]
    }
   ],
   "source": [
    "data_segment['tax_segment'] = pd.qcut(data_segment['total_tax'], q=4, labels=['Low Tax', 'Medium Low Tax', 'Medium High Tax', 'High Tax'])\n",
    "\n",
    "tax_segmented_data = data_segment.groupby('tax_segment').agg({'ratings': 'mean'}).reset_index()\n",
    "\n",
    "print(tax_segmented_data)\n",
    "\n",
    "data_segment['combined_segment'] = data_segment['cost_segment'].astype(str) + ' & ' + data_segment['rating_segment'].astype(str)\n",
    "\n",
    "combined_segmented_data = data_segment.groupby('combined_segment').agg({'distance_travelled': 'mean'}).reset_index()\n",
    "\n",
    "print(combined_segmented_data)"
   ]
  },
  {
   "cell_type": "code",
   "execution_count": 18,
   "id": "1ed8fa60",
   "metadata": {},
   "outputs": [
    {
     "name": "stderr",
     "output_type": "stream",
     "text": [
      "C:\\Users\\Hp\\anaconda3\\Lib\\site-packages\\sklearn\\cluster\\_kmeans.py:870: FutureWarning: The default value of `n_init` will change from 10 to 'auto' in 1.4. Set the value of `n_init` explicitly to suppress the warning\n",
      "  warnings.warn(\n"
     ]
    },
    {
     "name": "stdout",
     "output_type": "stream",
     "text": [
      "   cluster  distance_travelled  time_taken  total_trip_cost   ratings  \\\n",
      "0        0           11.121963   41.883991       241.998883  3.731776   \n",
      "1        1           25.752315   64.811076       508.571424  3.792824   \n",
      "2        2           42.962406   82.827068      1075.485714  3.759398   \n",
      "3        3            3.428571    9.503514       108.629713  3.709322   \n",
      "\n",
      "   trip_count  \n",
      "0        2140  \n",
      "1         864  \n",
      "2         133  \n",
      "3        1813  \n"
     ]
    }
   ],
   "source": [
    "from sklearn.cluster import KMeans\n",
    "from sklearn.preprocessing import StandardScaler\n",
    "\n",
    "features = ['distance_travelled', 'time_taken', 'commission_base_cost', \n",
    "            'driver_base_cost', 'total_tax', 'total_trip_cost', 'ratings']\n",
    "\n",
    "scaler = StandardScaler()\n",
    "scaled_features = scaler.fit_transform(data_segment[features])\n",
    "\n",
    "kmeans = KMeans(n_clusters=4, random_state=42)\n",
    "data_segment['cluster'] = kmeans.fit_predict(scaled_features)\n",
    "\n",
    "cluster_analysis = data_segment.groupby('cluster').agg({\n",
    "    'distance_travelled': 'mean',\n",
    "    'time_taken': 'mean',\n",
    "    'total_trip_cost': 'mean',\n",
    "    'ratings': 'mean',\n",
    "    'booking id': 'count'\n",
    "}).rename(columns={'booking id': 'trip_count'}).reset_index()\n",
    "\n",
    "print(cluster_analysis)"
   ]
  },
  {
   "cell_type": "code",
   "execution_count": 18,
   "id": "9d182aa8",
   "metadata": {},
   "outputs": [
    {
     "name": "stdout",
     "output_type": "stream",
     "text": [
      "  volume_segment  total_trip_cost\n",
      "0       Very Low              NaN\n",
      "1            Low              NaN\n",
      "2       Moderate              NaN\n",
      "3           High       262.074463\n"
     ]
    },
    {
     "name": "stderr",
     "output_type": "stream",
     "text": [
      "C:\\Users\\Hp\\AppData\\Local\\Temp\\ipykernel_2596\\1728322143.py:31: FutureWarning: The default of observed=False is deprecated and will be changed to True in a future version of pandas. Pass observed=False to retain current behavior or observed=True to adopt the future default and silence this warning.\n",
      "  volume_segmented_data = data_segment.groupby('volume_segment').agg({'total_trip_cost': 'mean'}).reset_index()\n"
     ]
    }
   ],
   "source": [
    "# Ensure booking_date_time is of datetime type\n",
    "data_segment['booking_date_time'] = pd.to_datetime(data_segment['booking_date_time'])\n",
    "\n",
    "# Group by booking date (without time)\n",
    "data_segment['booking_date'] = data_segment['booking_date_time'].dt.date\n",
    "\n",
    "# Count bookings per day\n",
    "daily_bookings = data_segment.groupby('booking_date').size().reset_index(name='booking_count')\n",
    "\n",
    "# Define bins for booking volume segmentation\n",
    "# Here we set the min and max directly from the booking_count series\n",
    "min_booking_count = daily_bookings['booking_count'].min()\n",
    "max_booking_count = daily_bookings['booking_count'].max()\n",
    "\n",
    "# Define bins ensuring they are in increasing order\n",
    "volume_bins = [0, 50, 100, 200, max_booking_count + 1]\n",
    "volume_labels = ['Very Low', 'Low', 'Moderate', 'High']\n",
    "\n",
    "# Create a new column for booking volume segmentation\n",
    "daily_bookings['volume_segment'] = pd.cut(daily_bookings['booking_count'], \n",
    "                                           bins=volume_bins, \n",
    "                                           labels=volume_labels, \n",
    "                                           right=True)\n",
    "\n",
    "# Merge back with the main data\n",
    "data_segment = data_segment.merge(daily_bookings[['booking_date', 'volume_segment']], \n",
    "                                   on='booking_date', \n",
    "                                   how='left')\n",
    "\n",
    "# Example: Group by volume segment and calculate average total_trip_cost\n",
    "volume_segmented_data = data_segment.groupby('volume_segment').agg({'total_trip_cost': 'mean'}).reset_index()\n",
    "\n",
    "print(volume_segmented_data)"
   ]
  },
  {
   "cell_type": "code",
   "execution_count": 19,
   "id": "ba27dc79",
   "metadata": {},
   "outputs": [
    {
     "name": "stdout",
     "output_type": "stream",
     "text": [
      "   season   ratings\n",
      "0  Winter  3.734949\n"
     ]
    }
   ],
   "source": [
    "data_segment['month'] = data_segment['booking_date_time'].dt.month\n",
    "\n",
    "def get_season(month):\n",
    "    if month in [12, 1, 2]:\n",
    "        return 'Winter'\n",
    "    elif month in [3, 4, 5]:\n",
    "        return 'Spring'\n",
    "    elif month in [6, 7, 8]:\n",
    "        return 'Summer'\n",
    "    else:\n",
    "        return 'Autumn'\n",
    "\n",
    "data_segment['season'] = data_segment['month'].apply(get_season)\n",
    "\n",
    "season_segmented_data = data_segment.groupby('season').agg({'ratings': 'mean'}).reset_index()\n",
    "\n",
    "print(season_segmented_data)"
   ]
  },
  {
   "cell_type": "code",
   "execution_count": 19,
   "id": "07eb3881",
   "metadata": {},
   "outputs": [
    {
     "name": "stdout",
     "output_type": "stream",
     "text": [
      "  detailed_rating_segment  total_trip_cost\n",
      "0               Very Poor       262.364855\n",
      "1                    Poor       246.487579\n",
      "2                 Average       263.298624\n",
      "3                    Good       266.398755\n",
      "4               Excellent       262.160935\n"
     ]
    },
    {
     "name": "stderr",
     "output_type": "stream",
     "text": [
      "C:\\Users\\Hp\\AppData\\Local\\Temp\\ipykernel_20744\\3855703855.py:6: FutureWarning: The default of observed=False is deprecated and will be changed to True in a future version of pandas. Pass observed=False to retain current behavior or observed=True to adopt the future default and silence this warning.\n",
      "  detailed_rating_segmented_data = data_segment.groupby('detailed_rating_segment').agg({'total_trip_cost': 'mean'}).reset_index()\n"
     ]
    }
   ],
   "source": [
    "rating_bins = [0, 1.5, 2.5, 3.5, 4.5, 5]\n",
    "rating_labels = ['Very Poor', 'Poor', 'Average', 'Good', 'Excellent']\n",
    "\n",
    "data_segment['detailed_rating_segment'] = pd.cut(data_segment['ratings'], bins=rating_bins, labels=rating_labels)\n",
    "\n",
    "detailed_rating_segmented_data = data_segment.groupby('detailed_rating_segment').agg({'total_trip_cost': 'mean'}).reset_index()\n",
    "\n",
    "print(detailed_rating_segmented_data)"
   ]
  },
  {
   "cell_type": "code",
   "execution_count": 28,
   "id": "66e5140f",
   "metadata": {},
   "outputs": [],
   "source": [
    "import pandas as pd\n",
    "import numpy as np\n",
    "import matplotlib.pyplot as plt\n",
    "from sklearn.decomposition import PCA\n",
    "from sklearn.preprocessing import StandardScaler"
   ]
  },
  {
   "cell_type": "code",
   "execution_count": 29,
   "id": "95c99778",
   "metadata": {},
   "outputs": [
    {
     "name": "stderr",
     "output_type": "stream",
     "text": [
      "C:\\Users\\Hp\\AppData\\Local\\Temp\\ipykernel_20744\\3073837307.py:5: SettingWithCopyWarning: \n",
      "A value is trying to be set on a copy of a slice from a DataFrame\n",
      "\n",
      "See the caveats in the documentation: https://pandas.pydata.org/pandas-docs/stable/user_guide/indexing.html#returning-a-view-versus-a-copy\n",
      "  data_for_pca.fillna(data_for_pca.mean(), inplace=True)\n"
     ]
    }
   ],
   "source": [
    "features = ['distance_travelled', 'time_taken', 'commission_base_cost', \n",
    "            'driver_base_cost', 'total_tax', 'total_trip_cost', 'ratings']\n",
    "\n",
    "data_for_pca = data_segment[features]\n",
    "data_for_pca.fillna(data_for_pca.mean(), inplace=True)\n"
   ]
  },
  {
   "cell_type": "code",
   "execution_count": 30,
   "id": "94a8025b",
   "metadata": {},
   "outputs": [],
   "source": [
    "scaler = StandardScaler()\n",
    "data_scaled = scaler.fit_transform(data_for_pca)"
   ]
  },
  {
   "cell_type": "code",
   "execution_count": 31,
   "id": "77ecdb25",
   "metadata": {},
   "outputs": [],
   "source": [
    "\n",
    "pca = PCA(n_components=2)\n",
    "\n",
    "principal_components = pca.fit_transform(data_scaled)\n",
    "\n",
    "pca_df = pd.DataFrame(data=principal_components, columns=['Principal Component 1', 'Principal Component 2'])"
   ]
  },
  {
   "cell_type": "code",
   "execution_count": 32,
   "id": "7e64bcd5",
   "metadata": {},
   "outputs": [
    {
     "name": "stdout",
     "output_type": "stream",
     "text": [
      "Explained variance ratio for each principal component:\n",
      "[0.77665835 0.14283166]\n"
     ]
    }
   ],
   "source": [
    "explained_variance = pca.explained_variance_ratio_\n",
    "print('Explained variance ratio for each principal component:')\n",
    "print(explained_variance)"
   ]
  },
  {
   "cell_type": "code",
   "execution_count": 33,
   "id": "b8b8ea5c",
   "metadata": {},
   "outputs": [
    {
     "data": {
      "image/png": "[encoded data removed]",
      "text/plain": [
       "<Figure size 1000x600 with 1 Axes>"
      ]
     },
     "metadata": {},
     "output_type": "display_data"
    }
   ],
   "source": [
    "plt.figure(figsize=(10, 6))\n",
    "plt.scatter(pca_df['Principal Component 1'], pca_df['Principal Component 2'])\n",
    "plt.title('PCA of Customer Bookings')\n",
    "plt.xlabel('Principal Component 1')\n",
    "plt.ylabel('Principal Component 2')\n",
    "plt.grid()\n",
    "plt.show()"
   ]
  },
  {
   "cell_type": "code",
   "execution_count": 34,
   "id": "d8d29ed3",
   "metadata": {
    "scrolled": true
   },
   "outputs": [
    {
     "name": "stdout",
     "output_type": "stream",
     "text": [
      "                           PC1       PC2\n",
      "distance_travelled    0.934971  0.000173\n",
      "time_taken            0.822901 -0.009757\n",
      "commission_base_cost  0.980091  0.005742\n",
      "driver_base_cost      0.987541  0.007636\n",
      "total_tax             0.987035  0.006736\n",
      "total_trip_cost       0.987897  0.007539\n",
      "ratings               0.019400 -0.999867\n"
     ]
    }
   ],
   "source": [
    "loading_scores = pca.components_.T * np.sqrt(pca.explained_variance_)\n",
    "loading_df = pd.DataFrame(loading_scores, index=features, columns=['PC1', 'PC2'])\n",
    "print(loading_df)"
   ]
  },
  {
   "cell_type": "code",
   "execution_count": 35,
   "id": "01642468",
   "metadata": {},
   "outputs": [
    {
     "name": "stderr",
     "output_type": "stream",
     "text": [
      "C:\\Users\\Hp\\anaconda3\\Lib\\site-packages\\sklearn\\cluster\\_kmeans.py:870: FutureWarning: The default value of `n_init` will change from 10 to 'auto' in 1.4. Set the value of `n_init` explicitly to suppress the warning\n",
      "  warnings.warn(\n",
      "C:\\Users\\Hp\\anaconda3\\Lib\\site-packages\\sklearn\\cluster\\_kmeans.py:870: FutureWarning: The default value of `n_init` will change from 10 to 'auto' in 1.4. Set the value of `n_init` explicitly to suppress the warning\n",
      "  warnings.warn(\n",
      "C:\\Users\\Hp\\anaconda3\\Lib\\site-packages\\sklearn\\cluster\\_kmeans.py:870: FutureWarning: The default value of `n_init` will change from 10 to 'auto' in 1.4. Set the value of `n_init` explicitly to suppress the warning\n",
      "  warnings.warn(\n",
      "C:\\Users\\Hp\\anaconda3\\Lib\\site-packages\\sklearn\\cluster\\_kmeans.py:870: FutureWarning: The default value of `n_init` will change from 10 to 'auto' in 1.4. Set the value of `n_init` explicitly to suppress the warning\n",
      "  warnings.warn(\n",
      "C:\\Users\\Hp\\anaconda3\\Lib\\site-packages\\sklearn\\cluster\\_kmeans.py:870: FutureWarning: The default value of `n_init` will change from 10 to 'auto' in 1.4. Set the value of `n_init` explicitly to suppress the warning\n",
      "  warnings.warn(\n",
      "C:\\Users\\Hp\\anaconda3\\Lib\\site-packages\\sklearn\\cluster\\_kmeans.py:870: FutureWarning: The default value of `n_init` will change from 10 to 'auto' in 1.4. Set the value of `n_init` explicitly to suppress the warning\n",
      "  warnings.warn(\n",
      "C:\\Users\\Hp\\anaconda3\\Lib\\site-packages\\sklearn\\cluster\\_kmeans.py:870: FutureWarning: The default value of `n_init` will change from 10 to 'auto' in 1.4. Set the value of `n_init` explicitly to suppress the warning\n",
      "  warnings.warn(\n",
      "C:\\Users\\Hp\\anaconda3\\Lib\\site-packages\\sklearn\\cluster\\_kmeans.py:870: FutureWarning: The default value of `n_init` will change from 10 to 'auto' in 1.4. Set the value of `n_init` explicitly to suppress the warning\n",
      "  warnings.warn(\n",
      "C:\\Users\\Hp\\anaconda3\\Lib\\site-packages\\sklearn\\cluster\\_kmeans.py:870: FutureWarning: The default value of `n_init` will change from 10 to 'auto' in 1.4. Set the value of `n_init` explicitly to suppress the warning\n",
      "  warnings.warn(\n",
      "C:\\Users\\Hp\\anaconda3\\Lib\\site-packages\\sklearn\\cluster\\_kmeans.py:870: FutureWarning: The default value of `n_init` will change from 10 to 'auto' in 1.4. Set the value of `n_init` explicitly to suppress the warning\n",
      "  warnings.warn(\n"
     ]
    },
    {
     "data": {
      "image/png": "[encoded data removed]",
      "text/plain": [
       "<Figure size 640x480 with 1 Axes>"
      ]
     },
     "metadata": {},
     "output_type": "display_data"
    }
   ],
   "source": [
    "import matplotlib.pyplot as plt\n",
    "sse = []\n",
    "for k in range(1, 11):\n",
    "    kmeans = KMeans(n_clusters=k, random_state=42)\n",
    "    kmeans.fit(scaled_features)\n",
    "    sse.append(kmeans.inertia_)\n",
    "plt.plot(range(1, 11), sse)\n",
    "plt.xlabel('Number of clusters')\n",
    "plt.ylabel('SSE')\n",
    "plt.title('Elbow Method for Optimal k')\n",
    "plt.show()"
   ]
  }
 ],
 "metadata": {
  "kernelspec": {
   "display_name": "Python 3 (ipykernel)",
   "language": "python",
   "name": "python3"
  },
  "language_info": {
   "codemirror_mode": {
    "name": "ipython",
    "version": 3
   },
   "file_extension": ".py",
   "mimetype": "text/x-python",
   "name": "python",
   "nbconvert_exporter": "python",
   "pygments_lexer": "ipython3",
   "version": "3.11.7"
  }
 },
 "nbformat": 4,
 "nbformat_minor": 5
}
